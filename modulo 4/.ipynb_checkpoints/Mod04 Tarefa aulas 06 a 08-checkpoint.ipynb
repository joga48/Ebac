{
 "cells": [
  {
   "cell_type": "markdown",
   "metadata": {},
   "source": [
    "# Tarefa 03\n",
    "\n",
    "- Leia os enunciados com atenção\n",
    "- Saiba que pode haver mais de uma resposta correta\n",
    "- Insira novas células de código sempre que achar necessário\n",
    "- Em caso de dúvidas, procure os Tutores\n",
    "- Divirta-se :)"
   ]
  },
  {
   "cell_type": "code",
   "execution_count": 1,
   "metadata": {},
   "outputs": [],
   "source": [
    "import pandas as pd\n",
    "import requests"
   ]
  },
  {
   "cell_type": "markdown",
   "metadata": {},
   "source": [
    "####  1) Lendo de APIs\n",
    "Vimos em aula como carregar dados públicos do governo através de um API (*Application Programming Interface*). No exemplo de aula, baixamos os dados de pedidos de verificação de limites (PVL) realizados por estados, e selecionamos apenas aqueles referentes ao estado de São Paulo.\n",
    "\n",
    "1. Repita os mesmos passos feitos em aula, mas selecione os PVLs realizados por municípios no estado do Rio de Janeiro.\n",
    "2. Quais são os três *status* das solicitações mais frequentes na base? Quais são suas frequências?\n",
    "3. Construa uma nova variável que contenha o ano do **status**. Observe que ```data_status``` vem como tipo *object* no **DataFrame**. Dica: você pode usar o método ```.str``` para transformar o tipo da variável em string, em seguida um método como [**slice()**](https://pandas.pydata.org/docs/reference/api/pandas.Series.str.slice.html) ou [**split()**](https://pandas.pydata.org/pandas-docs/stable/reference/api/pandas.Series.str.split.html).\n",
    "4. Indique a frequência de cada ano do campo construído no item (3)."
   ]
  },
  {
   "cell_type": "code",
   "execution_count": 2,
   "metadata": {},
   "outputs": [
    {
     "data": {
      "text/plain": [
       "200"
      ]
     },
     "execution_count": 2,
     "metadata": {},
     "output_type": "execute_result"
    }
   ],
   "source": [
    "# 1) Seu código aqui\n",
    "url = 'https://apidatalake.tesouro.gov.br/ords/sadipem/tt/pvl?uf=RJ&tipo_interessado=Munic%C3%ADpio'\n",
    "\n",
    "r = requests.get(url)\n",
    "r.status_code\n"
   ]
  },
  {
   "cell_type": "code",
   "execution_count": 3,
   "metadata": {},
   "outputs": [],
   "source": [
    "data = r.json()"
   ]
  },
  {
   "cell_type": "code",
   "execution_count": 4,
   "metadata": {},
   "outputs": [
    {
     "name": "stdout",
     "output_type": "stream",
     "text": [
      "('Deferido', 91)\n",
      "('Arquivado', 53)\n",
      "('Regularizado', 25)\n"
     ]
    }
   ],
   "source": [
    "# 2) Seu código aqui\n",
    "\n",
    "rjdf = pd.DataFrame(data['items'])\n",
    "\n",
    "st_arr = {'Deferido': 0}\n",
    "flag = True\n",
    "for i in rjdf['status']:       \n",
    "    for j in st_arr:\n",
    "        if i == j:\n",
    "            flag = False\n",
    "    if(flag):\n",
    "         st_arr[i] = 1\n",
    "    else:\n",
    "         st_arr[i] += 1\n",
    "    flag = True\n",
    "        \n",
    "sort_status = sorted(st_arr.items(), key=lambda x: x[1], reverse=True)\n",
    "    \n",
    "print(sort_status[0])\n",
    "print(sort_status[1])\n",
    "print(sort_status[2])"
   ]
  },
  {
   "cell_type": "code",
   "execution_count": 5,
   "metadata": {},
   "outputs": [
    {
     "data": {
      "text/plain": [
       "0      2020\n",
       "1      2021\n",
       "2      2022\n",
       "3      2020\n",
       "4      2021\n",
       "       ... \n",
       "228    2012\n",
       "229    2015\n",
       "230    2013\n",
       "231    2012\n",
       "232    2016\n",
       "Name: data_status, Length: 233, dtype: object"
      ]
     },
     "execution_count": 5,
     "metadata": {},
     "output_type": "execute_result"
    }
   ],
   "source": [
    "# 3) Seu código aqui\n",
    "\n",
    "dt_arr = rjdf['data_status'].str.split('/')\n",
    "count = 0\n",
    "for i in dt_arr:\n",
    "    dt_arr[count] = i[2]\n",
    "    count+=1\n",
    "dt_arr"
   ]
  },
  {
   "cell_type": "code",
   "execution_count": 6,
   "metadata": {},
   "outputs": [
    {
     "data": {
      "text/plain": [
       "{'2020': 15,\n",
       " '2021': 5,\n",
       " '2022': 12,\n",
       " '2017': 5,\n",
       " '2008': 37,\n",
       " '2002': 4,\n",
       " '2007': 29,\n",
       " '2014': 20,\n",
       " '2019': 17,\n",
       " '2011': 10,\n",
       " '2010': 19,\n",
       " '2018': 4,\n",
       " '2009': 9,\n",
       " '2012': 13,\n",
       " '2016': 4,\n",
       " '2013': 15,\n",
       " '2006': 4,\n",
       " '2015': 9,\n",
       " '2003': 1,\n",
       " '2004': 1}"
      ]
     },
     "execution_count": 6,
     "metadata": {},
     "output_type": "execute_result"
    }
   ],
   "source": [
    "# 4) Seu código aqui\n",
    "\n",
    "dtfr = {}\n",
    "flag = True\n",
    "for i in dt_arr:\n",
    "    for j in dtfr:\n",
    "        if i == j:\n",
    "            flag = False\n",
    "    if(flag):\n",
    "         dtfr[i] = 1\n",
    "    else:\n",
    "         dtfr[i] += 1\n",
    "    flag = True\n",
    "dtfr"
   ]
  },
  {
   "cell_type": "markdown",
   "metadata": {},
   "source": [
    "####  2) Melhorando a interação com o API\n",
    "Observe dois URLs de consultas diferentes, por exemplo o URL utilizado em aula, e o URL feito no exercício anterior. Compare-os e observe as diferenças.\n",
    "\n",
    "1. Faça uma função em Python que recebe como argumento o UF da consulta e o tipo de interessado (```'Estado'```ou ```Município```), e que devolve os dados da consulta no formato *DataFrame*.\n",
    "2. Quantas solicitações para o Estado podem ser consultadas para Minas Gerais com *status* em 'Arquivado por decurso de prazo' estão registradas?\n",
    "3. Qual é o município da Bahia com mais solicitações deferidas?\n",
    "4. Salve um arquivo .csv com os dados de solicitações da Bahia, com interessado = 'Estado'"
   ]
  },
  {
   "cell_type": "code",
   "execution_count": 7,
   "metadata": {},
   "outputs": [],
   "source": [
    "#1) Seu código aqui\n",
    "\n",
    "def getData(uf: str, tipoInteressado: str):\n",
    "    url = 'https://apidatalake.tesouro.gov.br/ords/sadipem/tt/pvl?uf='+ uf + '&tipo_interessado='+ tipoInteressado\n",
    "    r = requests.get(url)\n",
    "    r.status_code\n",
    "    datar = r.json()\n",
    "    return pd.DataFrame(datar['items'])\n",
    "    \n",
    "\n",
    "tipo1 = 'Munic%C3%ADpio'\n",
    "tipo2 = 'Estado'"
   ]
  },
  {
   "cell_type": "code",
   "execution_count": 8,
   "metadata": {},
   "outputs": [
    {
     "name": "stdout",
     "output_type": "stream",
     "text": [
      "1\n"
     ]
    }
   ],
   "source": [
    "# 2) Seu código aqui\n",
    "\n",
    "dados = getData('MG', tipo2)\n",
    "count = 0\n",
    "for i in dados['status']:\n",
    "    if i == 'Arquivado por decurso de prazo':\n",
    "        count +=1\n",
    "print(count)"
   ]
  },
  {
   "cell_type": "code",
   "execution_count": 27,
   "metadata": {},
   "outputs": [
    {
     "data": {
      "text/plain": [
       "('Castro Alves', 1)"
      ]
     },
     "execution_count": 27,
     "metadata": {},
     "output_type": "execute_result"
    }
   ],
   "source": [
    "# 3) Seu código aqui\n",
    "dados = getData('BA', tipo1)\n",
    "\n",
    "\n",
    "dtfr = {}\n",
    "\n",
    "index = dados.count()[2]\n",
    "i = 0\n",
    "while i < index:\n",
    "    if dados['status'][i] == 'Deferido (PVL-IF)' or dados['status'][i] == 'Deferido':\n",
    "        if str([dados['interessado'][i]]) in dtfr:\n",
    "            dtfr[dados['interessado'][i]] += 1\n",
    "        else: \n",
    "            dtfr[dados['interessado'][i]] = 1\n",
    "    i+=1\n",
    "\n",
    "sort_status = sorted(dtfr.items(), key=lambda x: x[1], reverse=True)\n",
    "\n",
    "\n",
    "sort_status[0]"
   ]
  },
  {
   "cell_type": "code",
   "execution_count": 29,
   "metadata": {},
   "outputs": [],
   "source": [
    "# 4) Seu código aqui\n",
    "\n",
    "dados = getData('BA', tipo2)\n",
    "dados.to_csv('Solici_BA_Estado.csv', index = False, sep = ';')"
   ]
  }
 ],
 "metadata": {
  "kernelspec": {
   "display_name": "Python 3 (ipykernel)",
   "language": "python",
   "name": "python3"
  },
  "language_info": {
   "codemirror_mode": {
    "name": "ipython",
    "version": 3
   },
   "file_extension": ".py",
   "mimetype": "text/x-python",
   "name": "python",
   "nbconvert_exporter": "python",
   "pygments_lexer": "ipython3",
   "version": "3.9.12"
  }
 },
 "nbformat": 4,
 "nbformat_minor": 4
}
